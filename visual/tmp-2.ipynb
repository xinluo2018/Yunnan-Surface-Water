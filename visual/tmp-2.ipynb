{
 "cells": [
  {
   "cell_type": "code",
   "execution_count": 1,
   "id": "c671b646",
   "metadata": {},
   "outputs": [
    {
     "name": "stdout",
     "output_type": "stream",
     "text": [
      "Input file size is 5476, 5392\n",
      "0...10...20...30...40...50...60...70...80...90...100 - done.\n"
     ]
    }
   ],
   "source": [
    "# extent: 'left up right down', e.g., extent='72 38 84 34'\n",
    "path_in = 'data/rsimg/dianchi_fuxian_yangzonghai_xingyun_s2_20240415_wgs84.tif'\n",
    "path_out = 'data/rsimg/dianchi_s2_20240415_wgs84.tif'\n",
    "extent='102.41 25.12 102.93 24.58'\n",
    "!gdal_translate -projwin $extent -co COMPRESS=LZW $path_in $path_out\n",
    "\n"
   ]
  },
  {
   "cell_type": "code",
   "execution_count": null,
   "id": "d9f58e96",
   "metadata": {},
   "outputs": [],
   "source": []
  }
 ],
 "metadata": {
  "kernelspec": {
   "display_name": "yn-lake",
   "language": "python",
   "name": "python3"
  },
  "language_info": {
   "codemirror_mode": {
    "name": "ipython",
    "version": 3
   },
   "file_extension": ".py",
   "mimetype": "text/x-python",
   "name": "python",
   "nbconvert_exporter": "python",
   "pygments_lexer": "ipython3",
   "version": "3.13.2"
  }
 },
 "nbformat": 4,
 "nbformat_minor": 5
}
