{
 "cells": [
  {
   "cell_type": "code",
   "execution_count": 2,
   "id": "02eb7797",
   "metadata": {},
   "outputs": [],
   "source": [
    "from cartopy.io.img_tiles import GoogleTiles\n",
    "import cartopy.crs as ccrs\n",
    "import geopandas as gpd\n",
    "import matplotlib.pyplot as plt\n",
    "import threading"
   ]
  },
  {
   "cell_type": "code",
   "execution_count": 10,
   "id": "ab1de1b8",
   "metadata": {},
   "outputs": [
    {
     "name": "stdout",
     "output_type": "stream",
     "text": [
      "False\n",
      "True\n"
     ]
    }
   ],
   "source": [
    "a = True\n",
    "b = False\n",
    "print(a and b) # 输出False\n",
    "print(a or b)  # 输出True\n"
   ]
  },
  {
   "cell_type": "code",
   "execution_count": 2,
   "id": "8d9f2185",
   "metadata": {},
   "outputs": [],
   "source": [
    "path_6 = '/Users/luo/Downloads/rgi60_setp.shp'\n",
    "path_7 = '/Users/luo/Downloads/rgi70_setp.gpkg'\n",
    "\n"
   ]
  },
  {
   "cell_type": "code",
   "execution_count": 7,
   "id": "c6008e6f",
   "metadata": {},
   "outputs": [
    {
     "data": {
      "text/plain": [
       "(11482, 31)"
      ]
     },
     "execution_count": 7,
     "metadata": {},
     "output_type": "execute_result"
    }
   ],
   "source": [
    "rgi60_gpd = gpd.read_file(path_6)\n",
    "rgi70_gpd = gpd.read_file(path_7)\n",
    "rgi70_gpd.shape"
   ]
  },
  {
   "cell_type": "code",
   "execution_count": null,
   "id": "dfb3aab4",
   "metadata": {},
   "outputs": [],
   "source": [
    "student = {\"name\": \"Alice\", \"age\": 20}  ## 创建字典\n",
    "student[\"name\"]  # 获取值\n",
    "student[\"grade\"] = \"A\"  # 添加键值\n"
   ]
  },
  {
   "cell_type": "code",
   "execution_count": 4,
   "id": "90ccc43f",
   "metadata": {},
   "outputs": [
    {
     "data": {
      "text/plain": [
       "np.float64(7267.294822959613)"
      ]
     },
     "execution_count": 4,
     "metadata": {},
     "output_type": "execute_result"
    }
   ],
   "source": [
    "rgi60_gpd_ = rgi60_gpd.to_crs('EPSG:32646')\n",
    "rgi70_gpd_ = rgi70_gpd.to_crs('EPSG:32646')\n",
    "rgi60_gpd_.area.sum() / 1e6\n"
   ]
  },
  {
   "cell_type": "code",
   "execution_count": 5,
   "id": "14f54402",
   "metadata": {},
   "outputs": [
    {
     "data": {
      "text/plain": [
       "np.float64(7414.812571414447)"
      ]
     },
     "execution_count": 5,
     "metadata": {},
     "output_type": "execute_result"
    }
   ],
   "source": [
    "rgi70_gpd_.area.sum() / 1e6\n"
   ]
  }
 ],
 "metadata": {
  "kernelspec": {
   "display_name": "yn-lake",
   "language": "python",
   "name": "python3"
  },
  "language_info": {
   "codemirror_mode": {
    "name": "ipython",
    "version": 3
   },
   "file_extension": ".py",
   "mimetype": "text/x-python",
   "name": "python",
   "nbconvert_exporter": "python",
   "pygments_lexer": "ipython3",
   "version": "3.13.2"
  }
 },
 "nbformat": 4,
 "nbformat_minor": 5
}
