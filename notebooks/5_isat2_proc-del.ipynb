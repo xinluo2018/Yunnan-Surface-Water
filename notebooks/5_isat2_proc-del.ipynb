{
 "cells": [
  {
   "cell_type": "code",
   "execution_count": null,
   "id": "c42b6ebd",
   "metadata": {},
   "outputs": [],
   "source": [
    "import h5py\n",
    "import pickle\n",
    "import numpy as np\n",
    "import geopandas as gpd\n",
    "from glob import glob\n",
    "import cartopy.crs as ccrs\n",
    "import matplotlib.pyplot as plt\n",
    "from shapely.geometry import Point\n",
    "from utils.atl13_readout import read_atl13\n"
   ]
  },
  {
   "cell_type": "code",
   "execution_count": null,
   "id": "13951207",
   "metadata": {},
   "outputs": [],
   "source": [
    "lake_name = 'erhai'\n",
    "dir_atl13 = 'data/isat2/'+lake_name\n",
    "paths_atl13 = sorted(glob(dir_atl13 + '/*.h5'))\n",
    "paths_atl13 = [path for path in paths_atl13 if 'readout' not in path]\n",
    "path_lake = 'data/lakes-vec/' + lake_name + '_s2_20240801.gpkg'\n",
    "\n"
   ]
  },
  {
   "cell_type": "code",
   "execution_count": null,
   "id": "aad52954",
   "metadata": {},
   "outputs": [],
   "source": [
    "lake_vec = gpd.read_file(path_lake)\n",
    "## inner buffer the lake polygon\n",
    "lake_vec_shrink = lake_vec.copy()\n",
    "lon_center = lake_vec_shrink.bounds.mean(axis=1).values\n",
    "utm_zone = np.floor(lon_center/6)+31\n",
    "epsg_code = f'326{int(utm_zone[0])}'\n",
    "lake_vec_shrink = lake_vec_shrink.to_crs(epsg=epsg_code)\n",
    "lake_vec_shrink['geometry'] = lake_vec_shrink.geometry.buffer(-500)\n",
    "lake_vec_shrink = lake_vec_shrink.to_crs(epsg=4326)\n"
   ]
  },
  {
   "cell_type": "code",
   "execution_count": null,
   "id": "5508da7f",
   "metadata": {},
   "outputs": [
    {
     "name": "stdout",
     "output_type": "stream",
     "text": [
      "alpha_mle                Dataset {57705/Inf}\n",
      "anom_ssegs               Group\n",
      "atl13refid               Dataset {57705/Inf}\n",
      "bottom_lat               Dataset {57705/Inf}\n",
      "bottom_lon               Dataset {57705/Inf}\n",
      "cloud_flag_asr_atl09     Dataset {57705/Inf}\n",
      "cloud_flag_atm_atl09     Dataset {57705/Inf}\n",
      "cycle_number             Dataset {57705/Inf}\n",
      "delta_time               Dataset {57705/Inf}\n",
      "err_ht_water_surf        Dataset {57705/Inf}\n",
      "err_slope_trk            Dataset {57705/Inf}\n",
      "ht_ortho                 Dataset {57705/Inf}\n",
      "ht_water_surf            Dataset {57705/Inf}\n",
      "ice_flag                 Dataset {57705/Inf}\n",
      "inland_water_body_id     Dataset {57705/Inf}\n",
      "inland_water_body_region Dataset {57705/Inf}\n",
      "inland_water_body_size   Dataset {57705/Inf}\n",
      "inland_water_body_source Dataset {57705/Inf}\n",
      "inland_water_body_type   Dataset {57705/Inf}\n",
      "layer_flag_atl09         Dataset {57705/Inf}\n",
      "met_ts_atl09             Dataset {57705/Inf}\n",
      "met_wind10_atl09         Dataset {57705/Inf}\n",
      "met_wind10_atl13         Dataset {57705/Inf}\n",
      "qf_bckgrd                Dataset {57705/Inf}\n",
      "qf_bias_em               Dataset {57705/Inf}\n",
      "qf_bias_fit              Dataset {57705/Inf}\n",
      "qf_cloud                 Dataset {57705/Inf}\n",
      "qf_ht_adj                Dataset {57705/Inf}\n",
      "qf_ice                   Dataset {57705/Inf}\n",
      "qf_iwp                   Dataset {57705/Inf}\n",
      "qf_lseg_length           Dataset {57705/Inf}\n",
      "qf_spec_width            Dataset {57705/Inf}\n",
      "qf_sseg_length           Dataset {57705/Inf}\n",
      "qf_stdev_lseg            Dataset {57705/Inf}\n",
      "qf_stdev_vlseg           Dataset {57705/Inf}\n",
      "qf_subsurf_anomaly       Dataset {57705/Inf}\n",
      "qf_subsurface_attenuation Dataset {57705/Inf}\n",
      "qf_subsurface_backscat_ampltd Dataset {57705/Inf}\n",
      "rgt                      Dataset {57705/Inf}\n",
      "segment_apparent_ht      Dataset {57705/Inf}\n",
      "segment_apparent_stdev   Dataset {57705/Inf}\n",
      "segment_azimuth          Dataset {57705/Inf}\n",
      "segment_bias_em          Dataset {57705/Inf}\n",
      "segment_bias_fit         Dataset {57705/Inf}\n",
      "segment_dac              Dataset {57705/Inf}\n",
      "segment_dem_ht           Dataset {57705/Inf}\n",
      "segment_dem_source       Dataset {57705/Inf}\n",
      "segment_fpb_correction   Dataset {57705/Inf}\n",
      "segment_full_sat_fract   Dataset {57705/Inf}\n",
      "segment_geoid            Dataset {57705/Inf}\n",
      "segment_geoid_free2mean  Dataset {57705/Inf}\n",
      "segment_id_beg           Dataset {57705/Inf}\n",
      "segment_id_end           Dataset {57705/Inf}\n",
      "segment_lat              Dataset {57705/Inf}\n",
      "segment_lon              Dataset {57705/Inf}\n",
      "segment_near_sat_fract   Dataset {57705/Inf}\n",
      "segment_podppd_flag      Dataset {57705/Inf}\n",
      "segment_quality          Dataset {57705/Inf, 4}\n",
      "segment_ref_elev         Dataset {57705/Inf}\n",
      "segment_slope_trk_bdy    Dataset {57705/Inf}\n",
      "segment_tide_earth_free2mean Dataset {57705/Inf}\n",
      "segment_tide_equilibrium Dataset {57705/Inf}\n",
      "segment_tide_ocean       Dataset {57705/Inf}\n",
      "significant_wave_ht      Dataset {57705/Inf}\n",
      "snow_ice_atl09           Dataset {57705/Inf}\n",
      "sseg_dist_from_eq        Dataset {57705/Inf}\n",
      "sseg_end_lat             Dataset {57705/Inf}\n",
      "sseg_end_lon             Dataset {57705/Inf}\n",
      "sseg_length              Dataset {57705/Inf}\n",
      "sseg_mean_lat            Dataset {57705/Inf}\n",
      "sseg_mean_lon            Dataset {57705/Inf}\n",
      "sseg_mean_time           Dataset {57705/Inf}\n",
      "sseg_sig_ph_cnt          Dataset {57705/Inf}\n",
      "sseg_start_lat           Dataset {57705/Inf}\n",
      "sseg_start_lon           Dataset {57705/Inf}\n",
      "stdev_water_surf         Dataset {57705/Inf}\n",
      "subsurface_attenuation   Dataset {57705/Inf}\n",
      "subsurface_backscat_ampltd Dataset {57705/Inf}\n",
      "transect_id              Dataset {57705/Inf}\n",
      "water_depth              Dataset {57705/Inf}\n"
     ]
    }
   ],
   "source": [
    "path_atl13 = paths_atl13[0]\n",
    "!h5ls $path_atl13/gt1l \n"
   ]
  },
  {
   "cell_type": "markdown",
   "id": "d9cfd852",
   "metadata": {},
   "source": [
    "### 1. atl13 data read out"
   ]
  },
  {
   "cell_type": "code",
   "execution_count": null,
   "id": "195ea245",
   "metadata": {},
   "outputs": [
    {
     "name": "stdout",
     "output_type": "stream",
     "text": [
      "written file: data/isat2/erhai/ATL13_20230118162142_04451801_007_01_readout.h5\n"
     ]
    }
   ],
   "source": [
    "for path in paths_atl13:\n",
    "    path_atl13_readout = path.replace('.h5', '_readout.h5')\n",
    "    read_atl13(path_in = path, path_out=path_atl13_readout)\n",
    "    break \n"
   ]
  },
  {
   "cell_type": "code",
   "execution_count": null,
   "id": "e12f9a40",
   "metadata": {},
   "outputs": [
    {
     "name": "stdout",
     "output_type": "stream",
     "text": [
      "h                        Dataset {819508}\n",
      "lat                      Dataset {819508}\n",
      "lon                      Dataset {819508}\n",
      "t_dyr                    Dataset {819508}\n"
     ]
    }
   ],
   "source": [
    "!h5ls $path_atl13_readout\n"
   ]
  },
  {
   "cell_type": "markdown",
   "id": "91ca01b1",
   "metadata": {},
   "source": [
    "### 2. mask the measurement outside the lake and calculate lake height"
   ]
  },
  {
   "cell_type": "code",
   "execution_count": null,
   "id": "15700a4c",
   "metadata": {},
   "outputs": [
    {
     "data": {
      "text/plain": [
       "20"
      ]
     },
     "execution_count": 17,
     "metadata": {},
     "output_type": "execute_result"
    }
   ],
   "source": [
    "paths_readout = sorted(glob(dir_atl13 + '/*_readout.h5'))\n",
    "paths_readout.__len__()\n"
   ]
  },
  {
   "cell_type": "code",
   "execution_count": null,
   "id": "731b8cc8",
   "metadata": {},
   "outputs": [
    {
     "name": "stdout",
     "output_type": "stream",
     "text": [
      "(819508,)\n"
     ]
    }
   ],
   "source": [
    "def vars_atl13_read(path_readout):\n",
    "    vars_atl13 = {'lat':[], 'lon':[], 't_dyr':[], 'h':[]}\n",
    "    with h5py.File(path_readout,'r') as atl13_readout:\n",
    "    # for beam in beams:\n",
    "        vars_atl13['lat'] = atl13_readout['lat'][:]\n",
    "        vars_atl13['lon'] = atl13_readout['lon'][:]\n",
    "        vars_atl13['t_dyr'] = atl13_readout['t_dyr'][:]\n",
    "        vars_atl13['h'] = atl13_readout['h'][:]\n",
    "    return vars_atl13\n",
    "\n",
    "vars_atl13 = vars_atl13_read(paths_readout[0])\n",
    "print(vars_atl13['h'].shape)\n"
   ]
  },
  {
   "cell_type": "code",
   "execution_count": null,
   "id": "6172add5",
   "metadata": {},
   "outputs": [],
   "source": [
    "extent = [lake_vec_shrink.bounds.minx[0]-0.1, lake_vec_shrink.bounds.maxx[0]+0.1, \n",
    "          lake_vec_shrink.bounds.miny[0]-0.1, lake_vec_shrink.bounds.maxy[0]+0.1]\n"
   ]
  },
  {
   "cell_type": "code",
   "execution_count": 20,
   "id": "10057ed0",
   "metadata": {},
   "outputs": [
    {
     "data": {
      "text/plain": [
       "<matplotlib.collections.PathCollection at 0x195f78e10>"
      ]
     },
     "execution_count": 20,
     "metadata": {},
     "output_type": "execute_result"
    },
    {
     "data": {
      "image/png": "[encoded data removed]",
      "text/plain": [
       "<Figure size 300x300 with 1 Axes>"
      ]
     },
     "metadata": {},
     "output_type": "display_data"
    }
   ],
   "source": [
    "## check the atl13 data\n",
    "fig, ax = plt.subplots(1,1, figsize=(3, 3), \n",
    "                       subplot_kw={'projection': ccrs.PlateCarree()}   )\n",
    "ax.set_extent(extent, crs=ccrs.PlateCarree())\n",
    "lake_vec.plot(ax=ax, facecolor=\"none\", edgecolor='red')\n",
    "ax.scatter(x=vars_atl13['lon'], y=vars_atl13['lat'], c=vars_atl13['h'], s=3.5)\n"
   ]
  },
  {
   "cell_type": "code",
   "execution_count": 21,
   "id": "f7e82619",
   "metadata": {},
   "outputs": [
    {
     "name": "stdout",
     "output_type": "stream",
     "text": [
      "(1080,)\n"
     ]
    }
   ],
   "source": [
    "### remove the measurement outside the lake\n",
    "def vars_mask(vars_in):\n",
    "    vars_masked = {'lat':[], 'lon':[], 't_dyr':[], 'h':[]}\n",
    "    ids_lake = np.zeros(shape=(vars_in['lon'].shape))\n",
    "    for i, lon in enumerate(vars_in['lon']):\n",
    "        point = Point(lon, vars_in['lat'][i])\n",
    "        if lake_vec_shrink.geometry[0].contains(point):\n",
    "            ids_lake[i]=1\n",
    "    for key in vars_in.keys():\n",
    "        vars_masked[key] = vars_in[key][ids_lake==1]\n",
    "    return vars_masked\n",
    "\n",
    "vars_atl13_masked = vars_mask(vars_in=vars_atl13)\n",
    "print(vars_atl13_masked['h'].shape)\n"
   ]
  },
  {
   "cell_type": "code",
   "execution_count": 22,
   "id": "f3cdd8ab",
   "metadata": {},
   "outputs": [
    {
     "data": {
      "text/plain": [
       "<matplotlib.collections.PathCollection at 0x195fa8b90>"
      ]
     },
     "execution_count": 22,
     "metadata": {},
     "output_type": "execute_result"
    },
    {
     "data": {
      "image/png": "[encoded data removed]",
      "text/plain": [
       "<Figure size 300x300 with 1 Axes>"
      ]
     },
     "metadata": {},
     "output_type": "display_data"
    }
   ],
   "source": [
    "fig, ax = plt.subplots(1,1, figsize=(3, 3), \n",
    "                       subplot_kw={'projection': ccrs.PlateCarree()}   )\n",
    "lake_vec.plot(ax=ax, facecolor=\"none\", edgecolor='red')\n",
    "ax.scatter(x=vars_atl13_masked['lon'], \n",
    "           y=vars_atl13_masked['lat'], \n",
    "           c=vars_atl13_masked['h'], \n",
    "           s=3.5)"
   ]
  },
  {
   "cell_type": "code",
   "execution_count": 23,
   "id": "1fc814f6",
   "metadata": {},
   "outputs": [
    {
     "name": "stdout",
     "output_type": "stream",
     "text": [
      "water height: 1965.72 m, time: 2023.05 day of year\n"
     ]
    },
    {
     "data": {
      "image/png": "[encoded data removed]",
      "text/plain": [
       "<Figure size 400x300 with 1 Axes>"
      ]
     },
     "metadata": {},
     "output_type": "display_data"
    }
   ],
   "source": [
    "fig, ax = plt.subplots(1,1, figsize=(4, 3))\n",
    "ax.hist(vars_atl13_masked['h'], bins=300);\n",
    "ht_water = np.median(vars_atl13_masked['h'])\n",
    "ht_time = vars_atl13_masked['t_dyr'].mean()\n",
    "print(f'water height: {ht_water:.2f} m, time: {ht_time:.2f} day of year')\n"
   ]
  },
  {
   "cell_type": "markdown",
   "id": "f9d70c3a",
   "metadata": {},
   "source": [
    "### 3. batch processing for the readout data"
   ]
  },
  {
   "cell_type": "code",
   "execution_count": 24,
   "id": "6fdd06d8",
   "metadata": {},
   "outputs": [
    {
     "name": "stdout",
     "output_type": "stream",
     "text": [
      "processing: data/isat2/erhai/ATL13_20230118162142_04451801_007_01_readout.h5\n"
     ]
    },
    {
     "name": "stdout",
     "output_type": "stream",
     "text": [
      "processing: data/isat2/erhai/ATL13_20230205053131_07131801_007_01_readout.h5\n",
      "processing: data/isat2/erhai/ATL13_20230419120124_04451901_007_01_readout.h5\n",
      "processing: data/isat2/erhai/ATL13_20230507011110_07131901_007_01_readout.h5\n",
      "processing: data/isat2/erhai/ATL13_20230707190555_02692001_007_01_readout.h5\n",
      "no measurement, skip\n",
      "processing: data/isat2/erhai/ATL13_20230719074046_04452001_007_01_readout.h5\n",
      "no measurement, skip\n",
      "processing: data/isat2/erhai/ATL13_20230805205021_07132001_007_01_readout.h5\n",
      "no measurement, skip\n",
      "processing: data/isat2/erhai/ATL13_20230817030808_08852001_007_01_readout.h5\n",
      "no measurement, skip\n",
      "processing: data/isat2/erhai/ATL13_20231018032018_04452101_007_01_readout.h5\n",
      "processing: data/isat2/erhai/ATL13_20231104163001_07132101_007_01_readout.h5\n",
      "processing: data/isat2/erhai/ATL13_20231115224748_08852101_007_02_readout.h5\n",
      "no measurement, skip\n",
      "processing: data/isat2/erhai/ATL13_20240105102503_02692201_007_01_readout.h5\n",
      "no measurement, skip\n",
      "processing: data/isat2/erhai/ATL13_20240116225950_04452201_007_01_readout.h5\n",
      "processing: data/isat2/erhai/ATL13_20240416183921_04452301_007_01_readout.h5\n",
      "processing: data/isat2/erhai/ATL13_20240504074906_07132301_007_02_readout.h5\n",
      "processing: data/isat2/erhai/ATL13_20240716141855_04452401_007_01_readout.h5\n",
      "processing: data/isat2/erhai/ATL13_20240803032840_07132401_007_01_readout.h5\n",
      "processing: data/isat2/erhai/ATL13_20241003212340_02692501_007_01_readout.h5\n",
      "no measurement, skip\n",
      "processing: data/isat2/erhai/ATL13_20241015095850_04452501_007_01_readout.h5\n",
      "no measurement, skip\n",
      "processing: data/isat2/erhai/ATL13_20241113052615_08852501_007_01_readout.h5\n",
      "{'date': [2023.0487006817566, 2023.0965349758515, 2023.2975204436145, 2023.3453548340224, 2023.7951589732136, 2023.8429933479754, 2024.0438582392476, 2024.2919977631584, 2024.3397016366723, 2024.5401378006436, 2024.5878416752425, 2024.8673539978022], 'height': [1965.7293201587818, 1965.5774861653647, 1965.2328831065786, 1964.9911203120723, 1966.339610173152, 1966.2314293902853, 1966.0484994741587, 1965.571458638008, 1965.382685012366, 1965.3902859157986, 1965.4418630355444, 1965.9755298132184]}\n"
     ]
    }
   ],
   "source": [
    "lake_heights = {'date':[], 'height':[]}\n",
    "for path_readout in paths_readout:\n",
    "    print(f'processing: {path_readout}')\n",
    "    vars_atl13 = vars_atl13_read(path_readout)\n",
    "    vars_atl13_masked = vars_mask(vars_in=vars_atl13)\n",
    "    if vars_atl13_masked['h'].shape[0] == 0: \n",
    "        print('no measurement, skip')\n",
    "        continue \n",
    "    ht_water = float(np.mean(vars_atl13_masked['h']))\n",
    "    ht_time = float(vars_atl13_masked['t_dyr'].mean())\n",
    "    lake_heights['date'].append(ht_time)\n",
    "    lake_heights['height'].append(ht_water)\n",
    "    # break\n",
    "\n",
    "print(lake_heights)\n"
   ]
  },
  {
   "cell_type": "code",
   "execution_count": 21,
   "id": "f669e79e",
   "metadata": {},
   "outputs": [
    {
     "data": {
      "text/plain": [
       "Text(0, 0.5, 'Height (m)')"
      ]
     },
     "execution_count": 21,
     "metadata": {},
     "output_type": "execute_result"
    },
    {
     "data": {
      "image/png": "[encoded data removed]",
      "text/plain": [
       "<Figure size 700x200 with 1 Axes>"
      ]
     },
     "metadata": {},
     "output_type": "display_data"
    }
   ],
   "source": [
    "fig, ax = plt.subplots(1,1, figsize=(7, 2))\n",
    "ax.plot(lake_heights['date'], lake_heights['height'], '-o')\n",
    "ax.set_xlabel('Date')\n",
    "ax.set_ylabel('Height (m)')\n"
   ]
  },
  {
   "cell_type": "code",
   "execution_count": 22,
   "id": "0ff07691",
   "metadata": {},
   "outputs": [],
   "source": [
    "## ### save to pkl data \n",
    "path_save = dir_atl13+'/'+lake_name+'_wse_isat2.pkl'\n",
    "lake_heights_dict = dict(zip(lake_heights['date'], lake_heights['height']))\n",
    "with open(path_save, 'wb') as f:\n",
    "       pickle.dump(lake_heights_dict, f)\n",
    "\n"
   ]
  }
 ],
 "metadata": {
  "kernelspec": {
   "display_name": "swot",
   "language": "python",
   "name": "python3"
  },
  "language_info": {
   "codemirror_mode": {
    "name": "ipython",
    "version": 3
   },
   "file_extension": ".py",
   "mimetype": "text/x-python",
   "name": "python",
   "nbconvert_exporter": "python",
   "pygments_lexer": "ipython3",
   "version": "3.13.5"
  }
 },
 "nbformat": 4,
 "nbformat_minor": 5
}
