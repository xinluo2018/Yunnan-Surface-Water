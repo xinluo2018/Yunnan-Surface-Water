{
 "cells": [
  {
   "cell_type": "code",
   "execution_count": 26,
   "metadata": {},
   "outputs": [],
   "source": [
    "import geopandas as gpd\n",
    "from glob import glob\n",
    "import numpy as np"
   ]
  },
  {
   "cell_type": "code",
   "execution_count": 7,
   "metadata": {},
   "outputs": [],
   "source": [
    "dir_dianchi = 'data/swot_l2/lakeSP/dianchi'\n",
    "zip_files = glob(dir_dianchi + '/*.zip')\n"
   ]
  },
  {
   "cell_type": "code",
   "execution_count": null,
   "metadata": {},
   "outputs": [],
   "source": [
    "import zipfile\n",
    "\n",
    "for file in zip_files:\n",
    "    with zipfile.ZipFile(file, 'r') as zip_ref:\n",
    "        zip_ref.extractall(file.split('.')[0])\n",
    "# zip_files[0]\n"
   ]
  },
  {
   "cell_type": "code",
   "execution_count": 21,
   "metadata": {},
   "outputs": [
    {
     "data": {
      "text/plain": [
       "'data/swot_l2/lakeSP/dianchi/SWOT_L2_HR_LakeSP_Prior_022_355_AS_20241014T012049_20241014T013310_PIC0_01/SWOT_L2_HR_LakeSP_Prior_022_355_AS_20241014T012049_20241014T013310_PIC0_01.shp'"
      ]
     },
     "execution_count": 21,
     "metadata": {},
     "output_type": "execute_result"
    }
   ],
   "source": [
    "dir_files = glob(dir_dianchi + '/*/*.shp')\n",
    "dir_files[0]\n"
   ]
  },
  {
   "cell_type": "code",
   "execution_count": 84,
   "metadata": {},
   "outputs": [
    {
     "data": {
      "text/html": [
       "<div>\n",
       "<style scoped>\n",
       "    .dataframe tbody tr th:only-of-type {\n",
       "        vertical-align: middle;\n",
       "    }\n",
       "\n",
       "    .dataframe tbody tr th {\n",
       "        vertical-align: top;\n",
       "    }\n",
       "\n",
       "    .dataframe thead th {\n",
       "        text-align: right;\n",
       "    }\n",
       "</style>\n",
       "<table border=\"1\" class=\"dataframe\">\n",
       "  <thead>\n",
       "    <tr style=\"text-align: right;\">\n",
       "      <th></th>\n",
       "      <th>lake_id</th>\n",
       "      <th>reach_id</th>\n",
       "      <th>obs_id</th>\n",
       "      <th>overlap</th>\n",
       "      <th>n_overlap</th>\n",
       "      <th>time</th>\n",
       "      <th>time_tai</th>\n",
       "      <th>time_str</th>\n",
       "      <th>wse</th>\n",
       "      <th>wse_u</th>\n",
       "      <th>...</th>\n",
       "      <th>lake_name</th>\n",
       "      <th>p_res_id</th>\n",
       "      <th>p_lon</th>\n",
       "      <th>p_lat</th>\n",
       "      <th>p_ref_wse</th>\n",
       "      <th>p_ref_area</th>\n",
       "      <th>p_date_t0</th>\n",
       "      <th>p_ds_t0</th>\n",
       "      <th>p_storage</th>\n",
       "      <th>geometry</th>\n",
       "    </tr>\n",
       "  </thead>\n",
       "  <tbody>\n",
       "    <tr>\n",
       "      <th>0</th>\n",
       "      <td>4220038102</td>\n",
       "      <td>no_data</td>\n",
       "      <td>no_data</td>\n",
       "      <td>no_data</td>\n",
       "      <td>no_data</td>\n",
       "      <td>-1.000000e+12</td>\n",
       "      <td>-1.000000e+12</td>\n",
       "      <td>no_data</td>\n",
       "      <td>-1.000000e+12</td>\n",
       "      <td>-1.000000e+12</td>\n",
       "      <td>...</td>\n",
       "      <td>no_data</td>\n",
       "      <td>-99999999</td>\n",
       "      <td>108.250425</td>\n",
       "      <td>47.912494</td>\n",
       "      <td>-1.000000e+12</td>\n",
       "      <td>0.014394</td>\n",
       "      <td>0</td>\n",
       "      <td>0.0</td>\n",
       "      <td>-1.000000e+12</td>\n",
       "      <td>None</td>\n",
       "    </tr>\n",
       "    <tr>\n",
       "      <th>1</th>\n",
       "      <td>4220038942</td>\n",
       "      <td>no_data</td>\n",
       "      <td>no_data</td>\n",
       "      <td>no_data</td>\n",
       "      <td>no_data</td>\n",
       "      <td>-1.000000e+12</td>\n",
       "      <td>-1.000000e+12</td>\n",
       "      <td>no_data</td>\n",
       "      <td>-1.000000e+12</td>\n",
       "      <td>-1.000000e+12</td>\n",
       "      <td>...</td>\n",
       "      <td>no_data</td>\n",
       "      <td>-99999999</td>\n",
       "      <td>109.450934</td>\n",
       "      <td>48.735313</td>\n",
       "      <td>-1.000000e+12</td>\n",
       "      <td>0.017100</td>\n",
       "      <td>0</td>\n",
       "      <td>0.0</td>\n",
       "      <td>-1.000000e+12</td>\n",
       "      <td>None</td>\n",
       "    </tr>\n",
       "    <tr>\n",
       "      <th>2</th>\n",
       "      <td>4220039072</td>\n",
       "      <td>no_data</td>\n",
       "      <td>no_data</td>\n",
       "      <td>no_data</td>\n",
       "      <td>no_data</td>\n",
       "      <td>-1.000000e+12</td>\n",
       "      <td>-1.000000e+12</td>\n",
       "      <td>no_data</td>\n",
       "      <td>-1.000000e+12</td>\n",
       "      <td>-1.000000e+12</td>\n",
       "      <td>...</td>\n",
       "      <td>no_data</td>\n",
       "      <td>-99999999</td>\n",
       "      <td>109.860716</td>\n",
       "      <td>49.525702</td>\n",
       "      <td>-1.000000e+12</td>\n",
       "      <td>0.014400</td>\n",
       "      <td>0</td>\n",
       "      <td>0.0</td>\n",
       "      <td>-1.000000e+12</td>\n",
       "      <td>None</td>\n",
       "    </tr>\n",
       "    <tr>\n",
       "      <th>3</th>\n",
       "      <td>4220039142</td>\n",
       "      <td>no_data</td>\n",
       "      <td>no_data</td>\n",
       "      <td>no_data</td>\n",
       "      <td>no_data</td>\n",
       "      <td>-1.000000e+12</td>\n",
       "      <td>-1.000000e+12</td>\n",
       "      <td>no_data</td>\n",
       "      <td>-1.000000e+12</td>\n",
       "      <td>-1.000000e+12</td>\n",
       "      <td>...</td>\n",
       "      <td>no_data</td>\n",
       "      <td>-99999999</td>\n",
       "      <td>109.409072</td>\n",
       "      <td>48.232108</td>\n",
       "      <td>-1.000000e+12</td>\n",
       "      <td>0.017100</td>\n",
       "      <td>0</td>\n",
       "      <td>0.0</td>\n",
       "      <td>-1.000000e+12</td>\n",
       "      <td>None</td>\n",
       "    </tr>\n",
       "    <tr>\n",
       "      <th>4</th>\n",
       "      <td>4220039162</td>\n",
       "      <td>no_data</td>\n",
       "      <td>no_data</td>\n",
       "      <td>no_data</td>\n",
       "      <td>no_data</td>\n",
       "      <td>-1.000000e+12</td>\n",
       "      <td>-1.000000e+12</td>\n",
       "      <td>no_data</td>\n",
       "      <td>-1.000000e+12</td>\n",
       "      <td>-1.000000e+12</td>\n",
       "      <td>...</td>\n",
       "      <td>no_data</td>\n",
       "      <td>-99999999</td>\n",
       "      <td>109.055263</td>\n",
       "      <td>47.831904</td>\n",
       "      <td>-1.000000e+12</td>\n",
       "      <td>0.026100</td>\n",
       "      <td>0</td>\n",
       "      <td>0.0</td>\n",
       "      <td>-1.000000e+12</td>\n",
       "      <td>None</td>\n",
       "    </tr>\n",
       "  </tbody>\n",
       "</table>\n",
       "<p>5 rows × 51 columns</p>\n",
       "</div>"
      ],
      "text/plain": [
       "      lake_id reach_id   obs_id  overlap n_overlap          time  \\\n",
       "0  4220038102  no_data  no_data  no_data   no_data -1.000000e+12   \n",
       "1  4220038942  no_data  no_data  no_data   no_data -1.000000e+12   \n",
       "2  4220039072  no_data  no_data  no_data   no_data -1.000000e+12   \n",
       "3  4220039142  no_data  no_data  no_data   no_data -1.000000e+12   \n",
       "4  4220039162  no_data  no_data  no_data   no_data -1.000000e+12   \n",
       "\n",
       "       time_tai time_str           wse         wse_u  ...  lake_name  \\\n",
       "0 -1.000000e+12  no_data -1.000000e+12 -1.000000e+12  ...    no_data   \n",
       "1 -1.000000e+12  no_data -1.000000e+12 -1.000000e+12  ...    no_data   \n",
       "2 -1.000000e+12  no_data -1.000000e+12 -1.000000e+12  ...    no_data   \n",
       "3 -1.000000e+12  no_data -1.000000e+12 -1.000000e+12  ...    no_data   \n",
       "4 -1.000000e+12  no_data -1.000000e+12 -1.000000e+12  ...    no_data   \n",
       "\n",
       "   p_res_id       p_lon      p_lat     p_ref_wse  p_ref_area  p_date_t0  \\\n",
       "0 -99999999  108.250425  47.912494 -1.000000e+12    0.014394          0   \n",
       "1 -99999999  109.450934  48.735313 -1.000000e+12    0.017100          0   \n",
       "2 -99999999  109.860716  49.525702 -1.000000e+12    0.014400          0   \n",
       "3 -99999999  109.409072  48.232108 -1.000000e+12    0.017100          0   \n",
       "4 -99999999  109.055263  47.831904 -1.000000e+12    0.026100          0   \n",
       "\n",
       "   p_ds_t0     p_storage  geometry  \n",
       "0      0.0 -1.000000e+12      None  \n",
       "1      0.0 -1.000000e+12      None  \n",
       "2      0.0 -1.000000e+12      None  \n",
       "3      0.0 -1.000000e+12      None  \n",
       "4      0.0 -1.000000e+12      None  \n",
       "\n",
       "[5 rows x 51 columns]"
      ]
     },
     "execution_count": 84,
     "metadata": {},
     "output_type": "execute_result"
    }
   ],
   "source": [
    "file_gpd = gpd.read_file(dir_files[20])\n",
    "file_gpd.head()\n"
   ]
  },
  {
   "cell_type": "code",
   "execution_count": null,
   "metadata": {},
   "outputs": [
    {
     "data": {
      "text/plain": [
       "<Axes: >"
      ]
     },
     "execution_count": 89,
     "metadata": {},
     "output_type": "execute_result"
    },
    {
     "data": {
      "image/png": "[encoded data removed]",
      "text/plain": [
       "<Figure size 640x480 with 1 Axes>"
      ]
     },
     "metadata": {},
     "output_type": "display_data"
    }
   ],
   "source": [
    "file_gpd['geometry'][ids].to_crs(epsg=32648).plot()\n"
   ]
  },
  {
   "cell_type": "code",
   "execution_count": 95,
   "metadata": {},
   "outputs": [],
   "source": [
    "ids = np.where(file_gpd['lake_name']=='DIAN CHI')[0] \n",
    "id = np.argmax(file_gpd['geometry'][ids].to_crs(epsg=32648).area)\n",
    "dianchi = file_gpd.loc[ids[id]]\n"
   ]
  },
  {
   "cell_type": "code",
   "execution_count": null,
   "metadata": {},
   "outputs": [
    {
     "data": {
      "text/plain": [
       "{'2023-12-16T00:31:45Z': 1887.879}"
      ]
     },
     "execution_count": 108,
     "metadata": {},
     "output_type": "execute_result"
    }
   ],
   "source": [
    "lakeSP_dianchi = {}\n",
    "lakeSP_dianchi[dianchi['time_str']] = dianchi['wse']\n",
    "lakeSP_dianchi\n"
   ]
  },
  {
   "cell_type": "code",
   "execution_count": null,
   "metadata": {},
   "outputs": [
    {
     "data": {
      "text/plain": [
       "1887.879"
      ]
     },
     "execution_count": 99,
     "metadata": {},
     "output_type": "execute_result"
    }
   ],
   "source": [
    "\n"
   ]
  },
  {
   "cell_type": "code",
   "execution_count": 81,
   "metadata": {},
   "outputs": [
    {
     "data": {
      "text/plain": [
       "10"
      ]
     },
     "execution_count": 81,
     "metadata": {},
     "output_type": "execute_result"
    }
   ],
   "source": [
    "id\n"
   ]
  }
 ],
 "metadata": {
  "kernelspec": {
   "display_name": "swot",
   "language": "python",
   "name": "python3"
  },
  "language_info": {
   "codemirror_mode": {
    "name": "ipython",
    "version": 3
   },
   "file_extension": ".py",
   "mimetype": "text/x-python",
   "name": "python",
   "nbconvert_exporter": "python",
   "pygments_lexer": "ipython3",
   "version": "3.9.19"
  }
 },
 "nbformat": 4,
 "nbformat_minor": 2
}
