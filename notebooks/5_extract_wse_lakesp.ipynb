{
 "cells": [
  {
   "cell_type": "markdown",
   "metadata": {},
   "source": [
    "#### Extract wse variable from the SWOT LakeSP data."
   ]
  },
  {
   "cell_type": "code",
   "execution_count": 11,
   "metadata": {},
   "outputs": [],
   "source": [
    "import geopandas as gpd\n",
    "from glob import glob\n",
    "import numpy as np\n",
    "import zipfile\n",
    "import warnings\n",
    "import pickle \n",
    "from scripts.date_transform import date_to_decimal\n",
    "warnings.filterwarnings(\"ignore\")\n"
   ]
  },
  {
   "cell_type": "code",
   "execution_count": 12,
   "metadata": {},
   "outputs": [],
   "source": [
    "dir_lakeSP = 'data/swot_l2/lakeSP/erhai'\n",
    "zip_files = glob(dir_lakeSP + '/*.zip')"
   ]
  },
  {
   "cell_type": "markdown",
   "metadata": {},
   "source": [
    "Unzip the lakeSP file."
   ]
  },
  {
   "cell_type": "code",
   "execution_count": 13,
   "metadata": {},
   "outputs": [],
   "source": [
    "for file in zip_files:\n",
    "    with zipfile.ZipFile(file, 'r') as zip_ref:\n",
    "        zip_ref.extractall(file.split('.')[0])\n"
   ]
  },
  {
   "cell_type": "markdown",
   "metadata": {},
   "source": [
    "Extract wse variable from the LakeSP data."
   ]
  },
  {
   "cell_type": "code",
   "execution_count": 14,
   "metadata": {},
   "outputs": [
    {
     "data": {
      "text/plain": [
       "'data/swot_l2/lakeSP/erhai/SWOT_L2_HR_LakeSP_Prior_001_424_AS_20230805T082825_20230805T084112_PGC0_01/SWOT_L2_HR_LakeSP_Prior_001_424_AS_20230805T082825_20230805T084112_PGC0_01.shp'"
      ]
     },
     "execution_count": 14,
     "metadata": {},
     "output_type": "execute_result"
    }
   ],
   "source": [
    "unzipped_files = sorted(glob(dir_lakeSP + '/*/*.shp'))\n",
    "unzipped_files[0]\n"
   ]
  },
  {
   "cell_type": "code",
   "execution_count": 15,
   "metadata": {},
   "outputs": [
    {
     "name": "stdout",
     "output_type": "stream",
     "text": [
      "data/swot_l2/lakeSP/erhai/SWOT_L2_HR_LakeSP_Prior_001_424_AS_20230805T082825_20230805T084112_PGC0_01/SWOT_L2_HR_LakeSP_Prior_001_424_AS_20230805T082825_20230805T084112_PGC0_01.shp\n",
      "data/swot_l2/lakeSP/erhai/SWOT_L2_HR_LakeSP_Prior_002_424_AS_20230826T051620_20230826T052318_PGC0_01/SWOT_L2_HR_LakeSP_Prior_002_424_AS_20230826T051620_20230826T052318_PGC0_01.shp\n",
      "data/swot_l2/lakeSP/erhai/SWOT_L2_HR_LakeSP_Prior_003_077_AS_20230903T164304_20230903T165132_PGC0_01/SWOT_L2_HR_LakeSP_Prior_003_077_AS_20230903T164304_20230903T165132_PGC0_01.shp\n",
      "data/swot_l2/lakeSP/erhai/SWOT_L2_HR_LakeSP_Prior_003_424_AS_20230916T015836_20230916T021123_PGC0_01/SWOT_L2_HR_LakeSP_Prior_003_424_AS_20230916T015836_20230916T021123_PGC0_01.shp\n",
      "data/swot_l2/lakeSP/erhai/SWOT_L2_HR_LakeSP_Prior_004_424_AS_20231006T224337_20231006T225624_PGC0_01/SWOT_L2_HR_LakeSP_Prior_004_424_AS_20231006T224337_20231006T225624_PGC0_01.shp\n",
      "data/swot_l2/lakeSP/erhai/SWOT_L2_HR_LakeSP_Prior_005_424_AS_20231027T192843_20231027T194130_PGC0_01/SWOT_L2_HR_LakeSP_Prior_005_424_AS_20231027T192843_20231027T194130_PGC0_01.shp\n",
      "data/swot_l2/lakeSP/erhai/SWOT_L2_HR_LakeSP_Prior_006_077_AS_20231105T065851_20231105T070915_PGC0_01/SWOT_L2_HR_LakeSP_Prior_006_077_AS_20231105T065851_20231105T070915_PGC0_01.shp\n",
      "data/swot_l2/lakeSP/erhai/SWOT_L2_HR_LakeSP_Prior_006_424_AS_20231117T161457_20231117T162628_PGC0_01/SWOT_L2_HR_LakeSP_Prior_006_424_AS_20231117T161457_20231117T162628_PGC0_01.shp\n",
      "data/swot_l2/lakeSP/erhai/SWOT_L2_HR_LakeSP_Prior_007_077_AS_20231126T034356_20231126T035420_PGC0_01/SWOT_L2_HR_LakeSP_Prior_007_077_AS_20231126T034356_20231126T035420_PGC0_01.shp\n",
      "data/swot_l2/lakeSP/erhai/SWOT_L2_HR_LakeSP_Prior_007_077_AS_20231126T034356_20231126T035420_PIC0_01/SWOT_L2_HR_LakeSP_Prior_007_077_AS_20231126T034356_20231126T035420_PIC0_01.shp\n",
      "data/swot_l2/lakeSP/erhai/SWOT_L2_HR_LakeSP_Prior_007_424_AS_20231208T125853_20231208T131140_PGC0_01/SWOT_L2_HR_LakeSP_Prior_007_424_AS_20231208T125853_20231208T131140_PGC0_01.shp\n",
      "data/swot_l2/lakeSP/erhai/SWOT_L2_HR_LakeSP_Prior_007_424_AS_20231208T125853_20231208T131140_PIC0_01/SWOT_L2_HR_LakeSP_Prior_007_424_AS_20231208T125853_20231208T131140_PIC0_01.shp\n",
      "data/swot_l2/lakeSP/erhai/SWOT_L2_HR_LakeSP_Prior_008_077_AS_20231217T002859_20231217T003914_PIC0_01/SWOT_L2_HR_LakeSP_Prior_008_077_AS_20231217T002859_20231217T003914_PIC0_01.shp\n",
      "data/swot_l2/lakeSP/erhai/SWOT_L2_HR_LakeSP_Prior_008_077_AS_20231217T002859_20231217T003924_PGC0_02/SWOT_L2_HR_LakeSP_Prior_008_077_AS_20231217T002859_20231217T003924_PGC0_02.shp\n",
      "data/swot_l2/lakeSP/erhai/SWOT_L2_HR_LakeSP_Prior_008_411_AS_20231228T225424_20231228T230215_PIC0_01/SWOT_L2_HR_LakeSP_Prior_008_411_AS_20231228T225424_20231228T230215_PIC0_01.shp\n",
      "No data for lake\n",
      "data/swot_l2/lakeSP/erhai/SWOT_L2_HR_LakeSP_Prior_008_424_AS_20231229T094359_20231229T095646_PGC0_02/SWOT_L2_HR_LakeSP_Prior_008_424_AS_20231229T094359_20231229T095646_PGC0_02.shp\n",
      "data/swot_l2/lakeSP/erhai/SWOT_L2_HR_LakeSP_Prior_009_077_AS_20240106T211406_20240106T212420_PIC0_01/SWOT_L2_HR_LakeSP_Prior_009_077_AS_20240106T211406_20240106T212420_PIC0_01.shp\n",
      "data/swot_l2/lakeSP/erhai/SWOT_L2_HR_LakeSP_Prior_009_077_AS_20240106T211406_20240106T212430_PGC0_01/SWOT_L2_HR_LakeSP_Prior_009_077_AS_20240106T211406_20240106T212430_PGC0_01.shp\n",
      "data/swot_l2/lakeSP/erhai/SWOT_L2_HR_LakeSP_Prior_009_424_AS_20240119T062904_20240119T064151_PGC0_01/SWOT_L2_HR_LakeSP_Prior_009_424_AS_20240119T062904_20240119T064151_PGC0_01.shp\n",
      "data/swot_l2/lakeSP/erhai/SWOT_L2_HR_LakeSP_Prior_009_424_AS_20240119T062904_20240119T064151_PIC0_01/SWOT_L2_HR_LakeSP_Prior_009_424_AS_20240119T062904_20240119T064151_PIC0_01.shp\n",
      "data/swot_l2/lakeSP/erhai/SWOT_L2_HR_LakeSP_Prior_010_077_AS_20240127T175912_20240127T180936_PIC0_01/SWOT_L2_HR_LakeSP_Prior_010_077_AS_20240127T175912_20240127T180936_PIC0_01.shp\n",
      "data/swot_l2/lakeSP/erhai/SWOT_L2_HR_LakeSP_Prior_010_424_AS_20240209T031409_20240209T032656_PIC0_01/SWOT_L2_HR_LakeSP_Prior_010_424_AS_20240209T031409_20240209T032656_PIC0_01.shp\n",
      "data/swot_l2/lakeSP/erhai/SWOT_L2_HR_LakeSP_Prior_011_062_AS_20240217T013424_20240217T014523_PIC0_01/SWOT_L2_HR_LakeSP_Prior_011_062_AS_20240217T013424_20240217T014523_PIC0_01.shp\n",
      "No data for lake\n",
      "data/swot_l2/lakeSP/erhai/SWOT_L2_HR_LakeSP_Prior_011_077_AS_20240217T144417_20240217T145441_PIC0_01/SWOT_L2_HR_LakeSP_Prior_011_077_AS_20240217T144417_20240217T145441_PIC0_01.shp\n",
      "data/swot_l2/lakeSP/erhai/SWOT_L2_HR_LakeSP_Prior_011_424_AS_20240229T235915_20240301T001201_PIC0_01/SWOT_L2_HR_LakeSP_Prior_011_424_AS_20240229T235915_20240301T001201_PIC0_01.shp\n",
      "data/swot_l2/lakeSP/erhai/SWOT_L2_HR_LakeSP_Prior_012_077_AS_20240309T112920_20240309T113945_PIC0_01/SWOT_L2_HR_LakeSP_Prior_012_077_AS_20240309T112920_20240309T113945_PIC0_01.shp\n",
      "data/swot_l2/lakeSP/erhai/SWOT_L2_HR_LakeSP_Prior_012_424_AS_20240321T204607_20240321T205708_PIC0_01/SWOT_L2_HR_LakeSP_Prior_012_424_AS_20240321T204607_20240321T205708_PIC0_01.shp\n",
      "data/swot_l2/lakeSP/erhai/SWOT_L2_HR_LakeSP_Prior_013_077_AS_20240330T081417_20240330T082449_PIC0_01/SWOT_L2_HR_LakeSP_Prior_013_077_AS_20240330T081417_20240330T082449_PIC0_01.shp\n",
      "data/swot_l2/lakeSP/erhai/SWOT_L2_HR_LakeSP_Prior_013_424_AS_20240411T173112_20240411T174213_PIC0_01/SWOT_L2_HR_LakeSP_Prior_013_424_AS_20240411T173112_20240411T174213_PIC0_01.shp\n",
      "data/swot_l2/lakeSP/erhai/SWOT_L2_HR_LakeSP_Prior_014_077_AS_20240420T045923_20240420T050955_PIC0_01/SWOT_L2_HR_LakeSP_Prior_014_077_AS_20240420T045923_20240420T050955_PIC0_01.shp\n",
      "data/swot_l2/lakeSP/erhai/SWOT_L2_HR_LakeSP_Prior_014_396_AS_20240501T141315_20240501T142434_PIC0_01/SWOT_L2_HR_LakeSP_Prior_014_396_AS_20240501T141315_20240501T142434_PIC0_01.shp\n",
      "No data for lake\n",
      "data/swot_l2/lakeSP/erhai/SWOT_L2_HR_LakeSP_Prior_014_424_AS_20240502T141426_20240502T142713_PIC0_01/SWOT_L2_HR_LakeSP_Prior_014_424_AS_20240502T141426_20240502T142713_PIC0_01.shp\n",
      "data/swot_l2/lakeSP/erhai/SWOT_L2_HR_LakeSP_Prior_015_424_AS_20240523T105931_20240523T111218_PIC0_01/SWOT_L2_HR_LakeSP_Prior_015_424_AS_20240523T105931_20240523T111218_PIC0_01.shp\n",
      "data/swot_l2/lakeSP/erhai/SWOT_L2_HR_LakeSP_Prior_016_077_AS_20240531T222940_20240531T224004_PIC0_01/SWOT_L2_HR_LakeSP_Prior_016_077_AS_20240531T222940_20240531T224004_PIC0_01.shp\n",
      "data/swot_l2/lakeSP/erhai/SWOT_L2_HR_LakeSP_Prior_016_368_AS_20240611T074245_20240611T075343_PIC0_01/SWOT_L2_HR_LakeSP_Prior_016_368_AS_20240611T074245_20240611T075343_PIC0_01.shp\n",
      "No data for lake\n",
      "data/swot_l2/lakeSP/erhai/SWOT_L2_HR_LakeSP_Prior_016_424_AS_20240613T074437_20240613T075724_PIC0_01/SWOT_L2_HR_LakeSP_Prior_016_424_AS_20240613T074437_20240613T075724_PIC0_01.shp\n",
      "data/swot_l2/lakeSP/erhai/SWOT_L2_HR_LakeSP_Prior_017_077_AS_20240621T191444_20240621T192508_PIC0_01/SWOT_L2_HR_LakeSP_Prior_017_077_AS_20240621T191444_20240621T192508_PIC0_01.shp\n",
      "data/swot_l2/lakeSP/erhai/SWOT_L2_HR_LakeSP_Prior_017_424_AS_20240704T042940_20240704T044227_PIC0_01/SWOT_L2_HR_LakeSP_Prior_017_424_AS_20240704T042940_20240704T044227_PIC0_01.shp\n",
      "data/swot_l2/lakeSP/erhai/SWOT_L2_HR_LakeSP_Prior_018_077_AS_20240712T155947_20240712T161012_PIC0_01/SWOT_L2_HR_LakeSP_Prior_018_077_AS_20240712T155947_20240712T161012_PIC0_01.shp\n",
      "data/swot_l2/lakeSP/erhai/SWOT_L2_HR_LakeSP_Prior_018_424_AS_20240725T011446_20240725T012732_PIC0_01/SWOT_L2_HR_LakeSP_Prior_018_424_AS_20240725T011446_20240725T012732_PIC0_01.shp\n",
      "data/swot_l2/lakeSP/erhai/SWOT_L2_HR_LakeSP_Prior_019_424_AS_20240814T215950_20240814T221237_PIC0_01/SWOT_L2_HR_LakeSP_Prior_019_424_AS_20240814T215950_20240814T221237_PIC0_01.shp\n",
      "data/swot_l2/lakeSP/erhai/SWOT_L2_HR_LakeSP_Prior_020_077_AS_20240823T092948_20240823T094020_PIC0_01/SWOT_L2_HR_LakeSP_Prior_020_077_AS_20240823T092948_20240823T094020_PIC0_01.shp\n",
      "data/swot_l2/lakeSP/erhai/SWOT_L2_HR_LakeSP_Prior_020_424_AS_20240904T184456_20240904T185742_PIC0_01/SWOT_L2_HR_LakeSP_Prior_020_424_AS_20240904T184456_20240904T185742_PIC0_01.shp\n",
      "data/swot_l2/lakeSP/erhai/SWOT_L2_HR_LakeSP_Prior_021_077_AS_20240913T061502_20240913T062526_PIC0_01/SWOT_L2_HR_LakeSP_Prior_021_077_AS_20240913T061502_20240913T062526_PIC0_01.shp\n",
      "data/swot_l2/lakeSP/erhai/SWOT_L2_HR_LakeSP_Prior_021_077_AS_20240913T061502_20240913T062526_PIC0_02/SWOT_L2_HR_LakeSP_Prior_021_077_AS_20240913T061502_20240913T062526_PIC0_02.shp\n",
      "data/swot_l2/lakeSP/erhai/SWOT_L2_HR_LakeSP_Prior_021_424_AS_20240925T153003_20240925T154250_PIC0_01/SWOT_L2_HR_LakeSP_Prior_021_424_AS_20240925T153003_20240925T154250_PIC0_01.shp\n",
      "data/swot_l2/lakeSP/erhai/SWOT_L2_HR_LakeSP_Prior_022_077_AS_20241004T030010_20241004T031034_PIC0_01/SWOT_L2_HR_LakeSP_Prior_022_077_AS_20241004T030010_20241004T031034_PIC0_01.shp\n",
      "data/swot_l2/lakeSP/erhai/SWOT_L2_HR_LakeSP_Prior_022_424_AS_20241016T121507_20241016T122754_PIC2_01/SWOT_L2_HR_LakeSP_Prior_022_424_AS_20241016T121507_20241016T122754_PIC2_01.shp\n",
      "data/swot_l2/lakeSP/erhai/SWOT_L2_HR_LakeSP_Prior_023_049_AS_20241023T234245_20241023T235607_PIC2_01/SWOT_L2_HR_LakeSP_Prior_023_049_AS_20241023T234245_20241023T235607_PIC2_01.shp\n",
      "No data for lake\n",
      "data/swot_l2/lakeSP/erhai/SWOT_L2_HR_LakeSP_Prior_023_077_AS_20241024T234514_20241024T235538_PIC2_01/SWOT_L2_HR_LakeSP_Prior_023_077_AS_20241024T234514_20241024T235538_PIC2_01.shp\n",
      "data/swot_l2/lakeSP/erhai/SWOT_L2_HR_LakeSP_Prior_023_424_AS_20241106T090011_20241106T091258_PIC2_01/SWOT_L2_HR_LakeSP_Prior_023_424_AS_20241106T090011_20241106T091258_PIC2_01.shp\n",
      "data/swot_l2/lakeSP/erhai/SWOT_L2_HR_LakeSP_Prior_024_424_AS_20241127T054706_20241127T055803_PIC2_01/SWOT_L2_HR_LakeSP_Prior_024_424_AS_20241127T054706_20241127T055803_PIC2_01.shp\n",
      "data/swot_l2/lakeSP/erhai/SWOT_L2_HR_LakeSP_Prior_025_424_AS_20241218T023020_20241218T024307_PIC2_01/SWOT_L2_HR_LakeSP_Prior_025_424_AS_20241218T023020_20241218T024307_PIC2_01.shp\n"
     ]
    },
    {
     "data": {
      "text/plain": [
       "{2023.84464: 1966.471,\n",
       " 2023.9018: 1966.438,\n",
       " 2023.95897: 1966.371,\n",
       " 2024.01609: 1966.227,\n",
       " 2024.07309: 1966.582,\n",
       " 2024.1301: 1966.234,\n",
       " 2024.18711: 1965.97,\n",
       " 2024.24411: 1965.902,\n",
       " 2024.30112: 1965.78,\n",
       " 2024.41514: 1965.599,\n",
       " 2024.47214: 1965.743,\n",
       " 2024.52915: 1965.557,\n",
       " 2024.64316: 1965.931,\n",
       " 2024.75718: 1966.425,\n",
       " 2024.81419: 1966.009}"
      ]
     },
     "execution_count": 15,
     "metadata": {},
     "output_type": "execute_result"
    }
   ],
   "source": [
    "lake_wse = {}\n",
    "lake_name = 'ERH;ER HAI'   ## 'DIAN CHI', 'ERH;ER HAI'\n",
    "# lake_name = 'DIAN CHI'   ## 'DIAN CHI', 'ERH;ER HAI'\n",
    "for file in unzipped_files:\n",
    "    print(file)\n",
    "    file_gpd = gpd.read_file(file)\n",
    "    ## select the features of target lake\n",
    "    try: \n",
    "        ids = np.where(file_gpd['lake_name']==lake_name)[0] \n",
    "        id = np.argmax(file_gpd['geometry'][ids].area)\n",
    "        lake = file_gpd.loc[ids[id]]\n",
    "    except Exception as e:\n",
    "        print(f\"No data for lake\")\n",
    "    if lake['wse']  > -1000 and lake['area_total'] > 10 and lake['wse_std'] < 1:   ### filter out bad data\n",
    "        date_decimal = date_to_decimal(lake['time_str'][:-1])\n",
    "        date_decimal = round(date_decimal, 5)\n",
    "        lake_wse[date_decimal] = lake['wse']\n",
    "lake_wse\n"
   ]
  },
  {
   "cell_type": "code",
   "execution_count": 16,
   "metadata": {},
   "outputs": [
    {
     "data": {
      "text/plain": [
       "{2023.84464: 1966.471,\n",
       " 2023.9018: 1966.438,\n",
       " 2023.95897: 1966.371,\n",
       " 2024.01609: 1966.227,\n",
       " 2024.07309: 1966.582,\n",
       " 2024.1301: 1966.234,\n",
       " 2024.18711: 1965.97,\n",
       " 2024.24411: 1965.902,\n",
       " 2024.30112: 1965.78,\n",
       " 2024.41514: 1965.599,\n",
       " 2024.47214: 1965.743,\n",
       " 2024.52915: 1965.557,\n",
       " 2024.64316: 1965.931,\n",
       " 2024.75718: 1966.425,\n",
       " 2024.81419: 1966.009}"
      ]
     },
     "execution_count": 16,
     "metadata": {},
     "output_type": "execute_result"
    }
   ],
   "source": [
    "lake_wse\n"
   ]
  },
  {
   "cell_type": "code",
   "execution_count": 17,
   "metadata": {},
   "outputs": [],
   "source": [
    "## write numpy data in \n",
    "path_save = dir_lakeSP+'/erhai_wse_lakesp.pkl'\n",
    "with open(path_save, 'wb') as f:\n",
    "        pickle.dump(lake_wse, f)\n"
   ]
  },
  {
   "cell_type": "code",
   "execution_count": 18,
   "metadata": {},
   "outputs": [],
   "source": [
    "# with open(path_save, 'rb') as f:\n",
    "#     heights_lake = pickle.load(f)\n",
    "# heights_lake\n"
   ]
  },
  {
   "cell_type": "markdown",
   "metadata": {},
   "source": [
    "Delete the unzipped folder."
   ]
  },
  {
   "cell_type": "code",
   "execution_count": 19,
   "metadata": {},
   "outputs": [],
   "source": [
    "import os\n",
    "import shutil\n",
    "unzipped_dir = [file for file in glob(dir_lakeSP + '/*') if not file.endswith('.zip')]\n",
    "unzipped_dir\n",
    "for folder in unzipped_dir:\n",
    "    if os.path.isdir(folder):\n",
    "        shutil.rmtree(folder)\n",
    "        "
   ]
  }
 ],
 "metadata": {
  "kernelspec": {
   "display_name": "swot",
   "language": "python",
   "name": "python3"
  },
  "language_info": {
   "codemirror_mode": {
    "name": "ipython",
    "version": 3
   },
   "file_extension": ".py",
   "mimetype": "text/x-python",
   "name": "python",
   "nbconvert_exporter": "python",
   "pygments_lexer": "ipython3",
   "version": "3.9.19"
  }
 },
 "nbformat": 4,
 "nbformat_minor": 2
}
